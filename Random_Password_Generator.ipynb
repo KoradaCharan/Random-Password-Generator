{
 "cells": [
  {
   "cell_type": "code",
   "execution_count": 2,
   "id": "c1fae80a",
   "metadata": {},
   "outputs": [
    {
     "name": "stdout",
     "output_type": "stream",
     "text": [
      "Jd!8|K$6\n"
     ]
    }
   ],
   "source": [
    "import random\n",
    "\n",
    "def shuffle(password):\n",
    "    lst=list(password)\n",
    "    random.shuffle(lst)\n",
    "    return ''.join(lst)\n",
    "L1=chr(random.randint(65,90)) #Upper case letters\n",
    "L2=chr(random.randint(97,122)) #Lower case letters\n",
    "L3=chr(random.randint(33,47)) #special characters\n",
    "L4=chr(random.randint(48,57)) #numbers 0-9\n",
    "L5=chr(random.randint(33,126))\n",
    "L6=chr(random.randint(33,126))\n",
    "L7=chr(random.randint(33,126))\n",
    "L8=chr(random.randint(33,126))\n",
    "\n",
    "password=L1+L2+L3+L4+L5+L6+L7+L8\n",
    "pasword=shuffle(password)\n",
    "print(password)"
   ]
  },
  {
   "cell_type": "code",
   "execution_count": null,
   "id": "ce98f44f",
   "metadata": {},
   "outputs": [],
   "source": []
  }
 ],
 "metadata": {
  "kernelspec": {
   "display_name": "Python 3 (ipykernel)",
   "language": "python",
   "name": "python3"
  },
  "language_info": {
   "codemirror_mode": {
    "name": "ipython",
    "version": 3
   },
   "file_extension": ".py",
   "mimetype": "text/x-python",
   "name": "python",
   "nbconvert_exporter": "python",
   "pygments_lexer": "ipython3",
   "version": "3.9.13"
  }
 },
 "nbformat": 4,
 "nbformat_minor": 5
}
